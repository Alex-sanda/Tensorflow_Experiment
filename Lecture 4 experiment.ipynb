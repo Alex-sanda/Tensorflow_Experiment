{
 "cells": [
  {
   "cell_type": "code",
   "execution_count": 9,
   "metadata": {
    "collapsed": true
   },
   "outputs": [],
   "source": [
    "import tensorflow as tf\n",
    "import numpy as np\n",
    "import pandas as pd\n",
    "import matplotlib.pyplot as plt\n",
    "import matplotlib.image as mpimg\n",
    "from PIL import Image "
   ]
  },
  {
   "cell_type": "markdown",
   "metadata": {},
   "source": [
    "Part one : tensorflow 读取数据的三种方式"
   ]
  },
  {
   "cell_type": "code",
   "execution_count": 3,
   "metadata": {},
   "outputs": [
    {
     "name": "stdout",
     "output_type": "stream",
     "text": [
      "[[ 6. 10.]\n",
      " [ 9. 13.]]\n"
     ]
    }
   ],
   "source": [
    "#1：从Constent 中读取数据\n",
    "X = tf.constant([[2,3],[5,6]],dtype=tf.float32,name='X')\n",
    "Y = tf.constant([4,7],dtype=tf.float32,name='Y')\n",
    "Z = X+Y\n",
    "with tf.Session() as sess:\n",
    "    print(sess.run(Z))"
   ]
  },
  {
   "cell_type": "code",
   "execution_count": 4,
   "metadata": {
    "scrolled": true
   },
   "outputs": [
    {
     "name": "stdout",
     "output_type": "stream",
     "text": [
      "[[ 6. 10.]\n",
      " [ 9. 13.]]\n"
     ]
    }
   ],
   "source": [
    "#2：feed 方式\n",
    "X_1 = tf.placeholder(tf.float32,shape=[None,2],name='X_1')\n",
    "Y_1 = tf.placeholder(tf.float32,name='Y_1')\n",
    "Z = X+Y\n",
    "with tf.Session() as sess:\n",
    "    print(sess.run(Z,feed_dict={X_1:[[2,3],[5,6]],Y_1:[4,7]}))"
   ]
  },
  {
   "cell_type": "markdown",
   "metadata": {},
   "source": [
    "Pipeline: XXXReader, Queue\n",
    "\n",
    "Queue机制：\n",
    "1. producer-consumer pattern(生产消费模式)\n",
    "2. 独立于主线程执行\n",
    "3. 异步IO: reader.read(queue)  tf.train.batch()\n",
    "\n",
    "tf.TextLineReader()\n",
    "\n",
    "tf.WholeFileReader()\n",
    "\n",
    "tf.TFRecordReader()\n",
    "\n",
    "![alt text](file_queue.gif \"File Queue\") "
   ]
  },
  {
   "cell_type": "code",
   "execution_count": 4,
   "metadata": {
    "scrolled": false
   },
   "outputs": [
    {
     "name": "stdout",
     "output_type": "stream",
     "text": [
      "[array([b'c3', b'C2', b'B3', b'A1'], dtype=object), array([b'c3', b'c2', b'b3', b'a1'], dtype=object)]\n",
      "[array([b'C2', b'B2', b'A3', b'B1'], dtype=object), array([b'c2', b'b2', b'a3', b'b1'], dtype=object)]\n",
      "[array([b'A3', b'A2', b'A2', b'B1'], dtype=object), array([b'a3', b'a2', b'a2', b'b1'], dtype=object)]\n",
      "[array([b'B3', b'C1', b'C2', b'B3'], dtype=object), array([b'b3', b'c1', b'c2', b'b3'], dtype=object)]\n",
      "[array([b'A1', b'B1', b'A3', b'c3'], dtype=object), array([b'a1', b'b1', b'a3', b'c3'], dtype=object)]\n",
      "[array([b'B2', b'C1', b'B1', b'A1'], dtype=object), array([b'b2', b'c1', b'b1', b'a1'], dtype=object)]\n",
      "[array([b'c3', b'A2', b'C1', b'A3'], dtype=object), array([b'c3', b'a2', b'c1', b'a3'], dtype=object)]\n",
      "[array([b'C1', b'A1', b'A3', b'B3'], dtype=object), array([b'c1', b'a1', b'a3', b'b3'], dtype=object)]\n",
      "[array([b'c3', b'B2', b'B3', b'c3'], dtype=object), array([b'c3', b'b2', b'b3', b'c3'], dtype=object)]\n",
      "[array([b'A1', b'B2', b'A2', b'B2'], dtype=object), array([b'a1', b'b2', b'a2', b'b2'], dtype=object)]\n",
      "[array([b'C2', b'B1', b'C1', b'C2'], dtype=object), array([b'c2', b'b1', b'c1', b'c2'], dtype=object)]\n",
      "error\n"
     ]
    }
   ],
   "source": [
    "#3： 通过Queque读取数据\n",
    "fileList = tf.train.match_filenames_once('./data/*.csv',name='getFileList')\n",
    "#等同于写fileList = [b'.\\\\data\\\\A.csv' b'.\\\\data\\\\B.csv' b'.\\\\data\\\\C.csv']\n",
    "\n",
    "#创建fileName Queque\n",
    "fileNameQueque = tf.train.string_input_producer(fileList,num_epochs=5,capacity=20,name='fileNameQueque')\n",
    "#string_input_producer\n",
    "#slice_input_producer具体在同一文件夹下的pdf里讲的很详细\n",
    "#两个op 入队和出队，通过循环调用deq也能遍历队列\n",
    "#enq = fileNameQueque.enqueue([b'.\\\\data\\\\A.csv', b'.\\\\data\\\\B.csv', b'.\\\\data\\\\C.csv'])\n",
    "#deq = fileNameQueque.dequeue()\n",
    "\n",
    "#创建reader\n",
    "reader = tf.TextLineReader(name='TextLineReader')\n",
    "key, value = reader.read(fileNameQueque)\n",
    "#其中key跟文件名有关，value是文件中每一行的值，print(sess.run([key,value]))形式如下：\n",
    "\"\"\"\n",
    "[b'.\\\\data\\\\B.csv:1', b'B1,b1']\n",
    "[b'.\\\\data\\\\B.csv:2', b'B2,b2']\n",
    "[b'.\\\\data\\\\B.csv:3', b'B3,b3']\n",
    "[b'.\\\\data\\\\A.csv:1', b'A1,a1']\n",
    "[b'.\\\\data\\\\A.csv:2', b'A2,a2']\n",
    "\n",
    "\"\"\"\n",
    "\n",
    "example,label = tf.decode_csv(value,record_defaults=[['null'],['null']])\n",
    "#把example、label 集成batch形式\n",
    "example_batch,label_batch = tf.train.shuffle_batch([example,label],4,40,20)\n",
    "\n",
    "init_op = tf.local_variables_initializer()\n",
    "with tf.Session() as sess:\n",
    "    sess.run(init_op)\n",
    "    coord = tf.train.Coordinator() #线程管理协调器\n",
    "    threads = tf.train.start_queue_runners(coord=coord) #启动QueueRunner\n",
    "\n",
    "    try:\n",
    "        for i in range(20):\n",
    "            print(sess.run([example_batch,label_batch]))\n",
    "    except:\n",
    "        print('error')\n",
    "        \n",
    "    coord.request_stop()\n",
    "    coord.join(threads)"
   ]
  },
  {
   "cell_type": "markdown",
   "metadata": {},
   "source": [
    "### TensorFlow 数据统一数据输入格式TFRecord\n",
    "\n",
    "why tfrecord, why not csv, jpg, png etc. ?\n",
    "\n",
    "<b>1. 统一不同输入文件的框架</b>\n",
    "\n",
    "<b>2. 节约空间（TFRecord压缩的二进制文件, protocal buffer序列化）</b>\n",
    "\n",
    "```c++\n",
    "message Example {\n",
    "  Features features = 1;\n",
    "};\n",
    "\n",
    "message Features {\n",
    "  map<string, Feature> feature = 1;\n",
    "};\n",
    "\n",
    "message Feature {\n",
    "  oneof kind {\n",
    "    BytesList bytes_list = 1;\n",
    "    FloatList float_list = 2;\n",
    "    Int64List int64_list = 3;\n",
    "  }\n",
    "};\n",
    "\n",
    "```"
   ]
  },
  {
   "cell_type": "markdown",
   "metadata": {},
   "source": [
    "将原始数据转换为TFRecord存储"
   ]
  },
  {
   "cell_type": "code",
   "execution_count": 5,
   "metadata": {},
   "outputs": [
    {
     "name": "stdout",
     "output_type": "stream",
     "text": [
      "train_values:(42000, 784)   train_values:(42000,)\n"
     ]
    }
   ],
   "source": [
    "#convert csv files to tfrecord\n",
    "#数据预处理：用pandas把values、label提取出来\n",
    "train_frame = pd.read_csv('train.csv')\n",
    "train_label = train_frame.pop('label')\n",
    "train_values = train_frame.values\n",
    "print('train_values:{}   train_values:{}'.format(train_values.shape,train_label.shape))"
   ]
  },
  {
   "cell_type": "code",
   "execution_count": 6,
   "metadata": {},
   "outputs": [
    {
     "data": {
      "text/plain": [
       "<tensorflow.python.lib.io.tf_record.TFRecordWriter at 0x12724ca7240>"
      ]
     },
     "execution_count": 6,
     "metadata": {},
     "output_type": "execute_result"
    }
   ],
   "source": [
    "writer = tf.python_io.TFRecordWriter(\"csv_train.tfrecords\")\n",
    "writer"
   ]
  },
  {
   "cell_type": "code",
   "execution_count": 7,
   "metadata": {
    "collapsed": true
   },
   "outputs": [],
   "source": [
    "for i in range(train_label.shape[0]):\n",
    "    image_raw = train_values[i].tostring()\n",
    "    example = tf.train.Example(\n",
    "        features=tf.train.Features(\n",
    "            feature={\n",
    "                \"image_raw\" : tf.train.Feature(bytes_list=tf.train.BytesList(value=[image_raw])),\n",
    "                \"label\"   : tf.train.Feature(int64_list=tf.train.Int64List(value=[train_label[i]]))\n",
    "            }\n",
    "        )\n",
    "\n",
    "    )\n",
    "    writer.write(example.SerializeToString())\n",
    "writer.close()"
   ]
  },
  {
   "cell_type": "code",
   "execution_count": 29,
   "metadata": {
    "collapsed": true,
    "scrolled": true
   },
   "outputs": [],
   "source": [
    "#将图片转换成 tfrecord\n",
    "#Image.open('./data/1.png')\n",
    "fileNameList = tf.train.match_filenames_once(\"./data/*.png\")\n",
    "#fileQueque = tf.train.string_input_producer(fileNameList)\n",
    "\n",
    "writer = tf.python_io.TFRecordWriter(\"png_train.tfrecords\")\n",
    "\n",
    "\n",
    "with tf.Session() as sess:\n",
    "    #局部变量初始化\n",
    "    sess.run(tf.local_variables_initializer())\n",
    "    fileNameList = sess.run(fileNameList)\n",
    "    for name in fileNameList:\n",
    "        img = mpimg.imread(name.decode())\n",
    "        img_raw = img.tostring()\n",
    "        label = name    #.decode()\n",
    "        \n",
    "        example = tf.train.Example(\n",
    "            features=tf.train.Features(\n",
    "                feature={\n",
    "                    \"img_raw\" : tf.train.Feature(bytes_list=tf.train.BytesList(value=[img_raw])),\n",
    "                    \"label\"   : tf.train.Feature(bytes_list=tf.train.BytesList(value=[label]))\n",
    "                }\n",
    "            )\n",
    "        )\n",
    "        writer.write(example.SerializeToString())\n",
    "    writer.close()\n",
    "    #print(sess.run(fileNameList))"
   ]
  },
  {
   "cell_type": "markdown",
   "metadata": {
    "collapsed": true
   },
   "source": [
    "从TFRecords文件读取数据"
   ]
  },
  {
   "cell_type": "code",
   "execution_count": 5,
   "metadata": {
    "collapsed": true,
    "scrolled": false
   },
   "outputs": [],
   "source": [
    "#爬取文件名\n",
    "fileNameList = tf.train.match_filenames_once(\"csv_train.tfrecords\")\n",
    "#组建文件队列\n",
    "filename_queque = tf.train.string_input_producer(fileNameList)\n",
    "\n",
    "#创建reader\n",
    "reader = tf.TFRecordReader()\n",
    "f_name,f_record = reader.read(filename_queque)\n",
    "\n",
    "f_example = tf.parse_single_example(f_record,\n",
    "                       features={\n",
    "                           \"image_raw\" : tf.FixedLenFeature([],tf.string),\n",
    "                           \"label\" : tf.FixedLenFeature([],tf.int64)\n",
    "                       })\n",
    "img_raw = tf.decode_raw(f_example[\"image_raw\"],tf.int64)\n",
    "img_raw.set_shape(784,)\n",
    "label = f_example[\"label\"]\n",
    "\n",
    "img_batch,label_batch = tf.train.shuffle_batch([img_raw,label],16,32,16)\n",
    "with tf.Session() as sess:\n",
    "    sess.run(tf.local_variables_initializer())\n",
    "    coord = tf.train.Coordinator()\n",
    "    threads = tf.train.start_queue_runners(sess=sess,coord=coord)\n",
    "    for i in range(20):\n",
    "        img_b,l_batch = sess.run([img_batch,label_batch])\n",
    "\n",
    "    coord.request_stop()\n",
    "    coord.join(threads)"
   ]
  },
  {
   "cell_type": "code",
   "execution_count": 11,
   "metadata": {
    "scrolled": false
   },
   "outputs": [
    {
     "data": {
      "image/png": "[encoded data removed]",
      "text/plain": [
       "<matplotlib.figure.Figure at 0x1cf58c9d7b8>"
      ]
     },
     "metadata": {},
     "output_type": "display_data"
    }
   ],
   "source": [
    "plt.imshow(np.reshape(img_b[0],(28,28))) \n",
    "plt.show()"
   ]
  },
  {
   "cell_type": "code",
   "execution_count": 2,
   "metadata": {},
   "outputs": [
    {
     "data": {
      "image/png": "[encoded data removed]",
      "text/plain": [
       "<matplotlib.figure.Figure at 0x1cf59d53400>"
      ]
     },
     "metadata": {},
     "output_type": "display_data"
    }
   ],
   "source": [
    "import matplotlib.pyplot as plt\n",
    "import tensorflow as tf\n",
    "\n",
    "image_raw = tf.gfile.FastGFile(\"./data/1.png\", \"rb\").read()\n",
    "img_data = tf.image.decode_png(image_raw)\n",
    "#img_data = tf.image.decode_jpeg(image_raw)\n",
    "#img_data = tf.image.convert_image_dtype(img_data, dtype=tf.float32)\n",
    "encoded_image = tf.image.encode_png(img_data)\n",
    "    \n",
    "with tf.Session() as sess:\n",
    "    plt.imshow(sess.run(img_data))\n",
    "    plt.show()\n",
    "\n",
    "    with tf.gfile.GFile(\"cat_float.jpeg\",\"wb\") as f:\n",
    "        f.write(sess.run(encoded_image))"
   ]
  },
  {
   "cell_type": "code",
   "execution_count": 12,
   "metadata": {
    "collapsed": true
   },
   "outputs": [],
   "source": [
    "with tf.Session() as sess:\n",
    "    img_ = sess.run(img_data)"
   ]
  },
  {
   "cell_type": "code",
   "execution_count": null,
   "metadata": {
    "collapsed": true
   },
   "outputs": [],
   "source": []
  }
 ],
 "metadata": {
  "kernelspec": {
   "display_name": "Python 3",
   "language": "python",
   "name": "python3"
  },
  "language_info": {
   "codemirror_mode": {
    "name": "ipython",
    "version": 3
   },
   "file_extension": ".py",
   "mimetype": "text/x-python",
   "name": "python",
   "nbconvert_exporter": "python",
   "pygments_lexer": "ipython3",
   "version": "3.6.3"
  }
 },
 "nbformat": 4,
 "nbformat_minor": 2
}
